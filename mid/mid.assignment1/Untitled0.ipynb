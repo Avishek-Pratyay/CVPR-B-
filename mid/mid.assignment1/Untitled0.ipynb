{
  "nbformat": 4,
  "nbformat_minor": 0,
  "metadata": {
    "colab": {
      "provenance": []
    },
    "kernelspec": {
      "name": "python3",
      "display_name": "Python 3"
    },
    "language_info": {
      "name": "python"
    }
  },
  "cells": [
    {
      "cell_type": "code",
      "execution_count": 1,
      "metadata": {
        "id": "ivM6Cr6htR_H"
      },
      "outputs": [],
      "source": [
        "import numpy as np\n",
        "import pandas as pd\n",
        "import os\n",
        "from sklearn.model_selection import KFold\n",
        "from sklearn.metrics import accuracy_score\n",
        "import cv2\n",
        "import matplotlib.pyplot as plt\n",
        "from collections import Counter"
      ]
    },
    {
      "cell_type": "markdown",
      "source": [
        "load dataset"
      ],
      "metadata": {
        "id": "t4SrxjOEvtri"
      }
    },
    {
      "cell_type": "code",
      "source": [
        "from google.colab import drive"
      ],
      "metadata": {
        "id": "6A_ONCJvwL4t"
      },
      "execution_count": 2,
      "outputs": []
    },
    {
      "cell_type": "code",
      "source": [
        "drive.mount('/content/drive')"
      ],
      "metadata": {
        "colab": {
          "base_uri": "https://localhost:8080/"
        },
        "id": "LEOz8cNNwN24",
        "outputId": "cefe64ea-cecd-4a25-83e0-e699a906278f"
      },
      "execution_count": 3,
      "outputs": [
        {
          "output_type": "stream",
          "name": "stdout",
          "text": [
            "Mounted at /content/drive\n"
          ]
        }
      ]
    },
    {
      "cell_type": "code",
      "source": [
        "import pandas as pd"
      ],
      "metadata": {
        "id": "I6CZYbnmwtDq"
      },
      "execution_count": 4,
      "outputs": []
    },
    {
      "cell_type": "code",
      "source": [
        "DATA_DIR=('/content/drive/MyDrive/Animals')"
      ],
      "metadata": {
        "id": "f2sJ05WNw1Ak"
      },
      "execution_count": 5,
      "outputs": []
    },
    {
      "cell_type": "code",
      "source": [
        "def load_image(DATA_DIR):\n",
        "  catagories=os.listdir(DATA_DIR)\n",
        "  return catagories"
      ],
      "metadata": {
        "id": "5dcZBrf4xb2D"
      },
      "execution_count": 6,
      "outputs": []
    },
    {
      "cell_type": "markdown",
      "source": [
        "Convert into gray scale"
      ],
      "metadata": {
        "id": "vLAO3JzIxiQI"
      }
    },
    {
      "cell_type": "code",
      "source": [
        "def load_images_and_labels(data_dir, target_size=(64, 64)):\n",
        "    data, labels = [], []\n",
        "    categories = os.listdir(data_dir)\n",
        "    for category in categories:\n",
        "        category_path = os.path.join(data_dir, category)\n",
        "        label = categories.index(category)\n",
        "        for file_name in os.listdir(category_path):\n",
        "            file_path = os.path.join(category_path, file_name)\n",
        "            try:\n",
        "                img = cv2.imread(file_path, cv2.IMREAD_GRAYSCALE)  # Convert to grayscale\n",
        "                img = cv2.resize(img, target_size)\n",
        "                data.append(img.flatten())  # Flatten image for k-NN\n",
        "                labels.append(label)\n",
        "            except Exception as e:\n",
        "                print(f\"Error loading image {file_path}: {e}\")\n",
        "    return np.array(data), np.array(labels)\n",
        ""
      ],
      "metadata": {
        "id": "99lB1e1zxl2B"
      },
      "execution_count": 7,
      "outputs": []
    },
    {
      "cell_type": "code",
      "source": [
        "images, labels = load_images_and_labels(DATA_DIR)\n",
        "print(\"Data loaded successfully!\")\n",
        "print(f\"Image Shape: {images.shape}, Labels Shape: {labels.shape}\")\n",
        "\n",
        "\n",
        ""
      ],
      "metadata": {
        "colab": {
          "base_uri": "https://localhost:8080/"
        },
        "id": "X5aaRk0nxtTP",
        "outputId": "10630c40-ed72-45d3-b4d9-b09d4e5a4ecd"
      },
      "execution_count": 8,
      "outputs": [
        {
          "output_type": "stream",
          "name": "stdout",
          "text": [
            "Data loaded successfully!\n",
            "Image Shape: (170, 4096), Labels Shape: (170,)\n"
          ]
        }
      ]
    },
    {
      "cell_type": "markdown",
      "source": [
        "Calculate Euclidean Distance"
      ],
      "metadata": {
        "id": "Z4bYP1lFx6MF"
      }
    },
    {
      "cell_type": "code",
      "source": [
        "def euclidean_distance(x, y):\n",
        "    return np.sqrt(np.sum((x - y) ** 2))\n"
      ],
      "metadata": {
        "id": "DsVqJbkoyBNa"
      },
      "execution_count": 16,
      "outputs": []
    },
    {
      "cell_type": "markdown",
      "source": [
        "k-NN classifier function"
      ],
      "metadata": {
        "id": "-_Yf3VWTyE3A"
      }
    },
    {
      "cell_type": "code",
      "source": [
        "def knn_predict(test_sample, train_data, train_labels, k):\n",
        "    distances = [euclidean_distance(test_sample, x) for x in train_data]\n",
        "    k_neighbors = np.argsort(distances)[:k]\n",
        "    k_neighbor_labels = [train_labels[i] for i in k_neighbors]\n",
        "    most_common = Counter(k_neighbor_labels).most_common(1)\n",
        "    return most_common[0][0]\n"
      ],
      "metadata": {
        "id": "_aBs0eRQyLV2"
      },
      "execution_count": 10,
      "outputs": []
    },
    {
      "cell_type": "markdown",
      "source": [
        "k-Fold Cross Validation and Accuracy Calculation"
      ],
      "metadata": {
        "id": "ygAwNMCsyQy_"
      }
    },
    {
      "cell_type": "code",
      "source": [
        "def knn_cross_validation(X, y, k_values):\n",
        "    kf = KFold(n_splits=5)\n",
        "    avg_accuracies = []\n",
        "\n",
        "    for k in k_values:\n",
        "        fold_accuracies = []\n",
        "\n",
        "        for train_index, val_index in kf.split(X):\n",
        "            X_train, X_val = X[train_index], X[val_index]\n",
        "            y_train, y_val = y[train_index], y[val_index]\n",
        "\n",
        "            correct_predictions = 0\n",
        "            for i, test_sample in enumerate(X_val):\n",
        "                prediction = knn_predict(test_sample, X_train, y_train, k)\n",
        "                if prediction == y_val[i]:\n",
        "                    correct_predictions += 1\n",
        "\n",
        "            fold_accuracy = correct_predictions / len(y_val)\n",
        "            fold_accuracies.append(fold_accuracy)\n",
        "\n",
        "        avg_accuracy = np.mean(fold_accuracies)\n",
        "        avg_accuracies.append(avg_accuracy)\n",
        "\n",
        "    return avg_accuracies\n",
        "def knn_cross_validation(X, y, k_values):\n",
        "    kf = KFold(n_splits=5)\n",
        "    avg_accuracies = []\n",
        "\n",
        "    for k in k_values:\n",
        "        fold_accuracies = []\n",
        "\n",
        "        for train_index, val_index in kf.split(X):\n",
        "            X_train, X_val = X[train_index], X[val_index]\n",
        "            y_train, y_val = y[train_index], y[val_index]\n",
        "\n",
        "            correct_predictions = 0\n",
        "            for i, test_sample in enumerate(X_val):\n",
        "                prediction = knn_predict(test_sample, X_train, y_train, k)\n",
        "                if prediction == y_val[i]:\n",
        "                    correct_predictions += 1\n",
        "\n",
        "            fold_accuracy = correct_predictions / len(y_val)\n",
        "            fold_accuracies.append(fold_accuracy)\n",
        "\n",
        "        avg_accuracy = np.mean(fold_accuracies)\n",
        "        avg_accuracies.append(avg_accuracy)\n",
        "\n",
        "    return avg_accuracies\n"
      ],
      "metadata": {
        "id": "8Q6zBGgvySOI"
      },
      "execution_count": 11,
      "outputs": []
    },
    {
      "cell_type": "markdown",
      "source": [
        "Run k-NN Cross-validation"
      ],
      "metadata": {
        "id": "lzRdnaLwyYNo"
      }
    },
    {
      "cell_type": "code",
      "source": [
        "k_values = [1, 3, 5, 7, 9]  # Test different k values\n",
        "avg_accuracies = knn_cross_validation(images, labels, k_values)\n"
      ],
      "metadata": {
        "id": "mjVuK5UEyZF3"
      },
      "execution_count": 14,
      "outputs": []
    },
    {
      "cell_type": "markdown",
      "source": [
        "Result"
      ],
      "metadata": {
        "id": "AwzhD4t_ytxt"
      }
    },
    {
      "cell_type": "code",
      "source": [
        "for k, accuracy in zip(k_values, avg_accuracies):\n",
        "    print(f\"Average accuracy for k={k}: {accuracy:.4f}\")\n",
        "\n",
        "# Optionally, plot the results\n",
        "plt.plot(k_values, avg_accuracies, marker='o')\n",
        "plt.title('k-NN Cross-Validation Accuracy for Different k Values')\n",
        "plt.xlabel('k (Number of Neighbors)')\n",
        "plt.ylabel('Average Accuracy')\n",
        "plt.grid(True)\n",
        "plt.show()"
      ],
      "metadata": {
        "colab": {
          "base_uri": "https://localhost:8080/",
          "height": 559
        },
        "id": "E8JCd2Tayvpi",
        "outputId": "07793e8c-0352-4f54-be75-0a4655e73cc4"
      },
      "execution_count": 17,
      "outputs": [
        {
          "output_type": "stream",
          "name": "stdout",
          "text": [
            "Average accuracy for k=1: 0.0941\n",
            "Average accuracy for k=3: 0.0647\n",
            "Average accuracy for k=5: 0.0412\n",
            "Average accuracy for k=7: 0.0353\n",
            "Average accuracy for k=9: 0.0353\n"
          ]
        },
        {
          "output_type": "display_data",
          "data": {
            "text/plain": [
              "<Figure size 640x480 with 1 Axes>"
            ],
            "image/png": "[encoded data removed]"
          },
          "metadata": {}
        }
      ]
    }
  ]
}